{
 "cells": [
  {
   "cell_type": "markdown",
   "id": "d3bfc191-8885-42ee-b0a0-bbab867c6f9f",
   "metadata": {
    "tags": []
   },
   "source": [
    "# Lab | Flow Control"
   ]
  },
  {
   "cell_type": "markdown",
   "id": "3851fcd1-cf98-4653-9c89-e003b7ec9400",
   "metadata": {},
   "source": [
    "## Exercise: Managing Customer Orders Optimized\n",
    "\n",
    "In the last lab, you were starting an online store that sells various products. To ensure smooth operations, you developed a program that manages customer orders and inventory.\n",
    "\n",
    "You did so without using flow control. Let's go a step further and improve this code.\n",
    "\n",
    "Follow the steps below to complete the exercise:\n",
    "\n",
    "1. Look at your code from the lab data structures, and improve repeated code with loops.\n",
    "\n",
    "2. Instead of asking the user to input the name of three products that a customer wants to order, do the following:\n",
    "    \n",
    "    a. Prompt the user to enter the name of a product that a customer wants to order.\n",
    "    \n",
    "    b. Add the product name to the \"customer_orders\" set.\n",
    "    \n",
    "    c. Ask the user if they want to add another product (yes/no).\n",
    "    \n",
    "    d. Continue the loop until the user does not want to add another product.\n",
    "\n",
    "3. Instead of updating the inventory by subtracting 1 from the quantity of each product, only do it for  the products that were ordered (those in \"customer_orders\")."
   ]
  },
  {
   "cell_type": "code",
   "execution_count": 56,
   "id": "d456d8a7-ffe2-49df-adbf-73097096ca36",
   "metadata": {},
   "outputs": [
    {
     "name": "stdin",
     "output_type": "stream",
     "text": [
      "How many products do you have in inventory?: 2\n",
      "How many products do you have in inventory?: 3\n",
      "How many products do you have in inventory?: 4\n",
      "How many products do you have in inventory?: 5\n",
      "How many products do you have in inventory?: 6\n"
     ]
    },
    {
     "name": "stdout",
     "output_type": "stream",
     "text": [
      "{'t-shirt': 2, 'mug': 3, 'hat': 4, 'book': 5, 'keychain': 6}\n"
     ]
    }
   ],
   "source": [
    "# Question 1\n",
    "products = [\"t-shirt\", \"mug\", \"hat\", \"book\", \"keychain\"]\n",
    "\n",
    "inventory = {}\n",
    "\n",
    "for product in products:\n",
    "    quantity = int(input(\"How many products do you have in inventory?:\"))\n",
    "    inventory[product] = quantity\n",
    "print(inventory)\n"
   ]
  },
  {
   "cell_type": "code",
   "execution_count": 58,
   "id": "c37e49b3-69f2-4618-8334-aaa4ea432f40",
   "metadata": {},
   "outputs": [
    {
     "name": "stdin",
     "output_type": "stream",
     "text": [
      "Enter your order: hat\n",
      "Do you want to add more products? (yes/no): yes\n",
      "Enter your order: mag\n"
     ]
    },
    {
     "name": "stdout",
     "output_type": "stream",
     "text": [
      "Enter a valid product in inventory.\n"
     ]
    },
    {
     "name": "stdin",
     "output_type": "stream",
     "text": [
      "Enter your order: mug\n",
      "Do you want to add more products? (yes/no): yes\n",
      "Enter your order: book\n",
      "Do you want to add more products? (yes/no): no\n"
     ]
    },
    {
     "name": "stdout",
     "output_type": "stream",
     "text": [
      "Order completed: {'hat', 'book', 'mug'}\n"
     ]
    }
   ],
   "source": [
    "# Question 2\n",
    "customer_orders = set()\n",
    "\n",
    "while True:\n",
    "    order = input(\"Enter your order:\").strip().lower()\n",
    "    if order in products:\n",
    "        customer_orders.add(order)\n",
    "    else:\n",
    "        print(\"Enter a valid product in inventory.\")\n",
    "        continue\n",
    "    ask_customer = str(input(\"Do you want to add more products? (yes/no):\").strip().lower())\n",
    "    if ask_customer != 'yes':\n",
    "        break\n",
    "\n",
    "print(\"Order completed:\",customer_orders)\n",
    "\n"
   ]
  },
  {
   "cell_type": "code",
   "execution_count": 62,
   "id": "55f26c0c-dbeb-4584-a28f-e70fc577844c",
   "metadata": {},
   "outputs": [
    {
     "name": "stdout",
     "output_type": "stream",
     "text": [
      "Updated Inventory:  {'t-shirt': 2, 'mug': 2, 'hat': 3, 'book': 4, 'keychain': 6}\n"
     ]
    }
   ],
   "source": [
    "# Question 3\n",
    "\n",
    "updated_inventory = inventory.copy()\n",
    "\n",
    "for key,value in inventory.items():\n",
    "    if key in customer_orders:\n",
    "        updated_inventory[key] = value - 1\n",
    "\n",
    "print(\"Updated Inventory: \", updated_inventory)\n",
    "    "
   ]
  },
  {
   "cell_type": "code",
   "execution_count": null,
   "id": "354018d6-88c7-4c44-82b6-75a503d311e3",
   "metadata": {},
   "outputs": [],
   "source": []
  }
 ],
 "metadata": {
  "kernelspec": {
   "display_name": "Python [conda env:base] *",
   "language": "python",
   "name": "conda-base-py"
  },
  "language_info": {
   "codemirror_mode": {
    "name": "ipython",
    "version": 3
   },
   "file_extension": ".py",
   "mimetype": "text/x-python",
   "name": "python",
   "nbconvert_exporter": "python",
   "pygments_lexer": "ipython3",
   "version": "3.12.7"
  }
 },
 "nbformat": 4,
 "nbformat_minor": 5
}
